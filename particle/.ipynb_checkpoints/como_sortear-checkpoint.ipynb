{
 "cells": [
  {
   "cell_type": "markdown",
   "metadata": {},
   "source": [
    "# Exemplo de reamostragem das partículas"
   ]
  },
  {
   "cell_type": "code",
   "execution_count": 1,
   "metadata": {},
   "outputs": [
    {
     "name": "stdout",
     "output_type": "stream",
     "text": [
      "Using scikit-learn to compute nearest neighbors\n"
     ]
    }
   ],
   "source": [
    "import numpy as np\n",
    "\n",
    "import projeto_pf # Seu trabalho vai aqui\n",
    "import inspercles\n",
    "from pf import draw_random_sample\n",
    "\n",
    "import sys\n",
    "if (sys.version_info > (3, 0)):\n",
    "    import importlib\n",
    "    importlib.reload(projeto_pf) # Para garantir que o Jupyter sempre relê seu trabalho\n",
    "else:\n",
    "    reload(projeto_pf)\n",
    "\n",
    "%matplotlib inline\n",
    "\n"
   ]
  },
  {
   "cell_type": "markdown",
   "metadata": {},
   "source": [
    "## Criação das partículas e do robô"
   ]
  },
  {
   "cell_type": "code",
   "execution_count": 2,
   "metadata": {},
   "outputs": [],
   "source": [
    "\n",
    "particulas = projeto_pf.cria_particulas()\n",
    "robot = projeto_pf.robot\n",
    "\n",
    "    \n",
    "    \n",
    "    \n",
    "    "
   ]
  },
  {
   "cell_type": "markdown",
   "metadata": {},
   "source": [
    "## Mapa com posição inicial"
   ]
  },
  {
   "cell_type": "markdown",
   "metadata": {},
   "source": [
    "Este desenho é só ilustrativo, você não vai precisar chamar o código de desenho no projeto. Somente precisa criar as funções adequadas em `projeto_pf.py`."
   ]
  },
  {
   "cell_type": "code",
   "execution_count": 3,
   "metadata": {
    "scrolled": false
   },
   "outputs": [
    {
     "data": {
      "text/plain": [
       "<matplotlib.axes._subplots.AxesSubplot at 0x7f13265474a8>"
      ]
     },
     "execution_count": 3,
     "metadata": {},
     "output_type": "execute_result"
    },
    {
     "data": {
      "image/png": "[encoded data removed]",
      "text/plain": [
       "<Figure size 720x720 with 1 Axes>"
      ]
     },
     "metadata": {
      "needs_background": "light"
     },
     "output_type": "display_data"
    }
   ],
   "source": [
    "inspercles.nb_draw_map(inspercles.color_image, particles = particulas, pose=robot.pose(), robot=True)"
   ]
  },
  {
   "cell_type": "markdown",
   "metadata": {},
   "source": [
    "Vamos tornar a distribuição de probabilidade nas partículas bem desequilibrada para observarmos a reamostragem"
   ]
  },
  {
   "cell_type": "code",
   "execution_count": 4,
   "metadata": {},
   "outputs": [],
   "source": [
    "particulas[0].w = 0.8   # a primeira recebe 80% da probabilidade\n",
    "for i in range(1, 10):\n",
    "    particulas[i].w = 0.2/9.0 # As subsequentes 1/9 do que sobrou (20%)"
   ]
  },
  {
   "cell_type": "code",
   "execution_count": 5,
   "metadata": {},
   "outputs": [],
   "source": [
    "# Vamos separar a informação de posição das partículas para que possamos \"ver\"  as partículas\n",
    "particulas_exp = [[p.x, p.y, p.theta] for p in particulas]\n",
    "\n",
    "particulas_pesos = [np.round(p.w, decimals=3) for p in particulas]"
   ]
  },
  {
   "cell_type": "code",
   "execution_count": 6,
   "metadata": {},
   "outputs": [
    {
     "data": {
      "text/plain": [
       "[[400.2595115343272, 383.24942866465943, 0.7168081182173041],\n",
       " [407.9890345409601, 420.0020654198656, 1.6432462542070292],\n",
       " [431.16939029890665, 417.23138812173306, 1.4722253079328727],\n",
       " [360.84491327037125, 391.02947022783474, 0.5268919949164512],\n",
       " [420.30009389344235, 377.96841515623845, 0.7521726157447535],\n",
       " [421.64831899232104, 385.6295647429895, 0.8060721321848867],\n",
       " [420.82956910929624, 404.8095482316682, 1.6713034390226749],\n",
       " [428.68489260472074, 380.78175559369885, -0.23040550843232738],\n",
       " [364.57132323014986, 369.8211506251438, 1.5278181366628265],\n",
       " [358.8624716734708, 364.6891037391535, 1.6815067070516907]]"
      ]
     },
     "execution_count": 6,
     "metadata": {},
     "output_type": "execute_result"
    }
   ],
   "source": [
    "particulas_exp"
   ]
  },
  {
   "cell_type": "markdown",
   "metadata": {},
   "source": [
    "Vejam como está a distribuição dos pesos"
   ]
  },
  {
   "cell_type": "code",
   "execution_count": 7,
   "metadata": {},
   "outputs": [
    {
     "data": {
      "text/plain": [
       "[0.80000000000000004,\n",
       " 0.021999999999999999,\n",
       " 0.021999999999999999,\n",
       " 0.021999999999999999,\n",
       " 0.021999999999999999,\n",
       " 0.021999999999999999,\n",
       " 0.021999999999999999,\n",
       " 0.021999999999999999,\n",
       " 0.021999999999999999,\n",
       " 0.021999999999999999]"
      ]
     },
     "execution_count": 7,
     "metadata": {},
     "output_type": "execute_result"
    }
   ],
   "source": [
    "particulas_pesos"
   ]
  },
  {
   "cell_type": "markdown",
   "metadata": {},
   "source": [
    "## Fazendo a reamostragem"
   ]
  },
  {
   "cell_type": "markdown",
   "metadata": {},
   "source": [
    "Vamos criar novas partículas reamostrando usando a função `pf.draw_random_sample`"
   ]
  },
  {
   "cell_type": "code",
   "execution_count": 8,
   "metadata": {},
   "outputs": [],
   "source": [
    "novas_particulas = draw_random_sample(particulas, particulas_pesos, 10)"
   ]
  },
  {
   "cell_type": "markdown",
   "metadata": {},
   "source": [
    "A probabilidade que está em peso agora o sentido. Precisamos fazer com que todos os pesos novamente virem w=1  (ou $1/n$ como na folha de papel, tanto faz desde que todas fiquem iguais)"
   ]
  },
  {
   "cell_type": "code",
   "execution_count": 9,
   "metadata": {},
   "outputs": [],
   "source": [
    "for p in novas_particulas:\n",
    "    p.w = 1"
   ]
  },
  {
   "cell_type": "markdown",
   "metadata": {},
   "source": [
    "O array *novas_particulas* contém as partículas depois da reamostragem. "
   ]
  },
  {
   "cell_type": "markdown",
   "metadata": {},
   "source": [
    "## Depois da reamostragem"
   ]
  },
  {
   "cell_type": "markdown",
   "metadata": {},
   "source": [
    "Vamos observar os valores das partículas"
   ]
  },
  {
   "cell_type": "code",
   "execution_count": 10,
   "metadata": {},
   "outputs": [],
   "source": [
    "valores_novas_particulas = [[p.x, p.y, p.theta] for p in novas_particulas]"
   ]
  },
  {
   "cell_type": "markdown",
   "metadata": {},
   "source": [
    "Observem com a partícula que na geração anterior tinha $80\\%$ de probabilidade é muito mais comum agora\n",
    "\n",
    "\n",
    "**<font color=red>Note que para o projeto a partícula precisa sofrer uma pequena mutação</font>**"
   ]
  },
  {
   "cell_type": "code",
   "execution_count": 11,
   "metadata": {},
   "outputs": [
    {
     "data": {
      "text/plain": [
       "[[400.2595115343272, 383.24942866465943, 0.7168081182173041],\n",
       " [358.8624716734708, 364.6891037391535, 1.6815067070516907],\n",
       " [400.2595115343272, 383.24942866465943, 0.7168081182173041],\n",
       " [400.2595115343272, 383.24942866465943, 0.7168081182173041],\n",
       " [400.2595115343272, 383.24942866465943, 0.7168081182173041],\n",
       " [400.2595115343272, 383.24942866465943, 0.7168081182173041],\n",
       " [400.2595115343272, 383.24942866465943, 0.7168081182173041],\n",
       " [400.2595115343272, 383.24942866465943, 0.7168081182173041],\n",
       " [400.2595115343272, 383.24942866465943, 0.7168081182173041],\n",
       " [420.30009389344235, 377.96841515623845, 0.7521726157447535]]"
      ]
     },
     "execution_count": 11,
     "metadata": {},
     "output_type": "execute_result"
    }
   ],
   "source": [
    "valores_novas_particulas"
   ]
  },
  {
   "cell_type": "markdown",
   "metadata": {},
   "source": [
    "![](animated.gif)"
   ]
  }
 ],
 "metadata": {
  "kernelspec": {
   "display_name": "Python 3",
   "language": "python",
   "name": "python3"
  },
  "language_info": {
   "codemirror_mode": {
    "name": "ipython",
    "version": 3
   },
   "file_extension": ".py",
   "mimetype": "text/x-python",
   "name": "python",
   "nbconvert_exporter": "python",
   "pygments_lexer": "ipython3",
   "version": "3.6.7"
  }
 },
 "nbformat": 4,
 "nbformat_minor": 2
}
